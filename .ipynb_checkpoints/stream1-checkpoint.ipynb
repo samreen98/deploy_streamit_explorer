{
 "cells": [
  {
   "cell_type": "code",
   "execution_count": 2,
   "metadata": {},
   "outputs": [],
   "source": [
    "import streamlit as st\n",
    "import numpy as np\n",
    "import pandas as pd"
   ]
  },
  {
   "cell_type": "code",
   "execution_count": 4,
   "metadata": {},
   "outputs": [
    {
     "data": {
      "text/plain": [
       "array([[-0.29256847, -0.8727761 , -0.95510042],\n",
       "       [ 0.59089221,  0.58612054, -1.17136087],\n",
       "       [-0.62316332,  0.38273031,  0.32657732],\n",
       "       [-0.82911075, -0.585242  , -0.18611027],\n",
       "       [-0.45728714,  0.79954049,  1.12628207],\n",
       "       [ 1.18073519,  0.78480582, -1.08912678],\n",
       "       [-1.48297078,  1.25957779, -0.76722548],\n",
       "       [ 1.90063505, -1.00120043, -1.30100225],\n",
       "       [-1.69873164, -0.7261407 , -0.08212627],\n",
       "       [-0.23565708,  0.73320714,  0.4250302 ],\n",
       "       [-0.97601611, -1.47710782, -0.39652212],\n",
       "       [ 0.20519113, -0.28777876,  2.00637867],\n",
       "       [-0.4965981 , -1.3378854 , -0.49651025],\n",
       "       [ 0.87577045, -1.153859  ,  0.09309948],\n",
       "       [ 0.63563803,  0.27671067, -0.73147134],\n",
       "       [ 0.560583  ,  0.35838231, -1.53570144],\n",
       "       [ 1.2462921 , -0.12235433, -1.10820761],\n",
       "       [ 0.82456329,  0.76399191, -1.7428292 ],\n",
       "       [-0.52076739,  0.35255461, -1.20724203],\n",
       "       [ 0.66321193, -0.17545139, -0.5918691 ]])"
      ]
     },
     "execution_count": 4,
     "metadata": {},
     "output_type": "execute_result"
    }
   ],
   "source": [
    "np.random.randn(20, 3)"
   ]
  },
  {
   "cell_type": "code",
   "execution_count": 6,
   "metadata": {},
   "outputs": [
    {
     "data": {
      "text/html": [
       "<div>\n",
       "<style scoped>\n",
       "    .dataframe tbody tr th:only-of-type {\n",
       "        vertical-align: middle;\n",
       "    }\n",
       "\n",
       "    .dataframe tbody tr th {\n",
       "        vertical-align: top;\n",
       "    }\n",
       "\n",
       "    .dataframe thead th {\n",
       "        text-align: right;\n",
       "    }\n",
       "</style>\n",
       "<table border=\"1\" class=\"dataframe\">\n",
       "  <thead>\n",
       "    <tr style=\"text-align: right;\">\n",
       "      <th></th>\n",
       "      <th>a</th>\n",
       "      <th>b</th>\n",
       "      <th>c</th>\n",
       "    </tr>\n",
       "  </thead>\n",
       "  <tbody>\n",
       "    <tr>\n",
       "      <th>0</th>\n",
       "      <td>-0.465272</td>\n",
       "      <td>-0.259928</td>\n",
       "      <td>-0.717242</td>\n",
       "    </tr>\n",
       "    <tr>\n",
       "      <th>1</th>\n",
       "      <td>-1.045187</td>\n",
       "      <td>0.914303</td>\n",
       "      <td>-0.342057</td>\n",
       "    </tr>\n",
       "    <tr>\n",
       "      <th>2</th>\n",
       "      <td>0.353512</td>\n",
       "      <td>-0.588073</td>\n",
       "      <td>-2.004886</td>\n",
       "    </tr>\n",
       "    <tr>\n",
       "      <th>3</th>\n",
       "      <td>-0.877572</td>\n",
       "      <td>0.697426</td>\n",
       "      <td>2.046565</td>\n",
       "    </tr>\n",
       "    <tr>\n",
       "      <th>4</th>\n",
       "      <td>-0.685570</td>\n",
       "      <td>2.148917</td>\n",
       "      <td>-1.222005</td>\n",
       "    </tr>\n",
       "  </tbody>\n",
       "</table>\n",
       "</div>"
      ],
      "text/plain": [
       "          a         b         c\n",
       "0 -0.465272 -0.259928 -0.717242\n",
       "1 -1.045187  0.914303 -0.342057\n",
       "2  0.353512 -0.588073 -2.004886\n",
       "3 -0.877572  0.697426  2.046565\n",
       "4 -0.685570  2.148917 -1.222005"
      ]
     },
     "execution_count": 6,
     "metadata": {},
     "output_type": "execute_result"
    }
   ],
   "source": [
    "pd.DataFrame(\n",
    "     np.random.randn(5, 3),\n",
    "     columns=['a', 'b', 'c'])"
   ]
  },
  {
   "cell_type": "code",
   "execution_count": 16,
   "metadata": {},
   "outputs": [
    {
     "data": {
      "text/html": [
       "<div>\n",
       "<style scoped>\n",
       "    .dataframe tbody tr th:only-of-type {\n",
       "        vertical-align: middle;\n",
       "    }\n",
       "\n",
       "    .dataframe tbody tr th {\n",
       "        vertical-align: top;\n",
       "    }\n",
       "\n",
       "    .dataframe thead th {\n",
       "        text-align: right;\n",
       "    }\n",
       "</style>\n",
       "<table border=\"1\" class=\"dataframe\">\n",
       "  <thead>\n",
       "    <tr style=\"text-align: right;\">\n",
       "      <th></th>\n",
       "      <th>lat</th>\n",
       "      <th>lon</th>\n",
       "    </tr>\n",
       "  </thead>\n",
       "  <tbody>\n",
       "    <tr>\n",
       "      <th>0</th>\n",
       "      <td>47.771202</td>\n",
       "      <td>-122.397261</td>\n",
       "    </tr>\n",
       "    <tr>\n",
       "      <th>1</th>\n",
       "      <td>47.755269</td>\n",
       "      <td>-122.400746</td>\n",
       "    </tr>\n",
       "    <tr>\n",
       "      <th>2</th>\n",
       "      <td>47.754853</td>\n",
       "      <td>-122.398509</td>\n",
       "    </tr>\n",
       "    <tr>\n",
       "      <th>3</th>\n",
       "      <td>47.759723</td>\n",
       "      <td>-122.399250</td>\n",
       "    </tr>\n",
       "    <tr>\n",
       "      <th>4</th>\n",
       "      <td>47.755149</td>\n",
       "      <td>-122.398845</td>\n",
       "    </tr>\n",
       "    <tr>\n",
       "      <th>...</th>\n",
       "      <td>...</td>\n",
       "      <td>...</td>\n",
       "    </tr>\n",
       "    <tr>\n",
       "      <th>995</th>\n",
       "      <td>47.752170</td>\n",
       "      <td>-122.401576</td>\n",
       "    </tr>\n",
       "    <tr>\n",
       "      <th>996</th>\n",
       "      <td>47.746351</td>\n",
       "      <td>-122.394300</td>\n",
       "    </tr>\n",
       "    <tr>\n",
       "      <th>997</th>\n",
       "      <td>47.772802</td>\n",
       "      <td>-122.401508</td>\n",
       "    </tr>\n",
       "    <tr>\n",
       "      <th>998</th>\n",
       "      <td>47.746768</td>\n",
       "      <td>-122.399253</td>\n",
       "    </tr>\n",
       "    <tr>\n",
       "      <th>999</th>\n",
       "      <td>47.768969</td>\n",
       "      <td>-122.406111</td>\n",
       "    </tr>\n",
       "  </tbody>\n",
       "</table>\n",
       "<p>1000 rows × 2 columns</p>\n",
       "</div>"
      ],
      "text/plain": [
       "           lat         lon\n",
       "0    47.771202 -122.397261\n",
       "1    47.755269 -122.400746\n",
       "2    47.754853 -122.398509\n",
       "3    47.759723 -122.399250\n",
       "4    47.755149 -122.398845\n",
       "..         ...         ...\n",
       "995  47.752170 -122.401576\n",
       "996  47.746351 -122.394300\n",
       "997  47.772802 -122.401508\n",
       "998  47.746768 -122.399253\n",
       "999  47.768969 -122.406111\n",
       "\n",
       "[1000 rows x 2 columns]"
      ]
     },
     "execution_count": 16,
     "metadata": {},
     "output_type": "execute_result"
    }
   ],
   "source": [
    "map_data = pd.DataFrame(\n",
    "    np.random.randn(1000, 2) / [100, 350] + [47.76, -122.4],\n",
    "    columns=['lat', 'lon'])\n",
    "map_data"
   ]
  },
  {
   "cell_type": "code",
   "execution_count": 20,
   "metadata": {},
   "outputs": [
    {
     "data": {
      "text/plain": [
       "array([-0.8514016 ,  2.8925854 ,  2.40958285,  0.90569594,  1.34683578,\n",
       "        0.9559334 ,  1.7559009 ,  1.69058786,  0.65563398,  1.39659474])"
      ]
     },
     "execution_count": 20,
     "metadata": {},
     "output_type": "execute_result"
    }
   ],
   "source": [
    "arr = np.random.normal(1, 1, size=10)\n",
    "arr"
   ]
  },
  {
   "cell_type": "code",
   "execution_count": null,
   "metadata": {},
   "outputs": [],
   "source": []
  }
 ],
 "metadata": {
  "kernelspec": {
   "display_name": "Python 3",
   "language": "python",
   "name": "python3"
  },
  "language_info": {
   "codemirror_mode": {
    "name": "ipython",
    "version": 3
   },
   "file_extension": ".py",
   "mimetype": "text/x-python",
   "name": "python",
   "nbconvert_exporter": "python",
   "pygments_lexer": "ipython3",
   "version": "3.7.4"
  }
 },
 "nbformat": 4,
 "nbformat_minor": 4
}
